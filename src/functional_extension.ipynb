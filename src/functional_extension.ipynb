{
 "cells": [
  {
   "cell_type": "code",
   "execution_count": 15,
   "metadata": {},
   "outputs": [
    {
     "name": "stdout",
     "output_type": "stream",
     "text": [
      "[8, 3, 4]\n",
      "15\n",
      "5.0\n"
     ]
    }
   ],
   "source": [
    "from functools import reduce\n",
    "\n",
    "class lst(list):\n",
    "    def __init__(self, *elems):\n",
    "        self._list = [*elems]\n",
    "\n",
    "    def sum(self):\n",
    "        return reduce(lambda a, b: a + b, self._list)\n",
    "\n",
    "    def mean(self):\n",
    "        return self.sum() / len(self._list)\n",
    "\n",
    "    def __repr__(self):\n",
    "        return repr(self._list)\n",
    "\n",
    "example = lst(8, 3, 4)\n",
    "\n",
    "print(example)\n",
    "print(example.sum())\n",
    "print(example.mean())"
   ]
  }
 ],
 "metadata": {
  "kernelspec": {
   "display_name": "Python 3",
   "language": "python",
   "name": "python3"
  },
  "language_info": {
   "codemirror_mode": {
    "name": "ipython",
    "version": 3
   },
   "file_extension": ".py",
   "mimetype": "text/x-python",
   "name": "python",
   "nbconvert_exporter": "python",
   "pygments_lexer": "ipython3",
   "version": "3.10.11"
  },
  "orig_nbformat": 4
 },
 "nbformat": 4,
 "nbformat_minor": 2
}
